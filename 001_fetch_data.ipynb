{
 "cells": [
  {
   "cell_type": "markdown",
   "metadata": {},
   "source": [
    "# Example in book"
   ]
  },
  {
   "cell_type": "code",
   "execution_count": null,
   "metadata": {},
   "outputs": [],
   "source": [
    "import os\n",
    "import tarfile\n",
    "import urllib\n",
    "\n",
    "DOWNLOAD_ROOT = \"https://raw.githubusercontent.com/ageron/handson-ml/master/\"\n",
    "HOUSING_PATH = os.path.join(\"datasets\", \"housing\")\n",
    "HOUSING_URL = DOWNLOAD_ROOT + \"datasets/housing/housing.tgz\"\n",
    "\n",
    "def fetch_housing_data(housing_url=HOUSING_URL, housing_path=HOUSING_PATH):\n",
    "    if not os.path.isdir(housing_path):\n",
    "        os.makedirs(housing_path)\n",
    "    tgz_path = os.path.join(housing_path, \"housing.tgz\")\n",
    "    urllib.request.urlretrieve(housing_url, tgz_path)\n",
    "    housing_tgz = tarfile.open(tgz_path)\n",
    "    housing_tgz.extractall(path=housing_path)\n",
    "    housing_tgz.close()"
   ]
  },
  {
   "cell_type": "markdown",
   "metadata": {},
   "source": [
    "# Modify"
   ]
  },
  {
   "cell_type": "code",
   "execution_count": 3,
   "metadata": {},
   "outputs": [],
   "source": [
    "# 仅仅是本地文件，不需要下载\n",
    "import os\n",
    "import tarfile\n",
    "\n",
    "HOUSING_PATH = os.path.join(\"datasets\", \"housing\")\n",
    "\n",
    "def fetch_housing_data(housing_path=HOUSING_PATH):\n",
    "    if not os.path.isdir(housing_path):\n",
    "        os.makedirs(housing_path)\n",
    "    tgz_path = os.path.join(housing_path, \"housing.tgz\")\n",
    "    housing_tgz = tarfile.open(tgz_path)\n",
    "    housing_tgz.extractall(path=housing_path)\n",
    "    housing_tgz.close()"
   ]
  },
  {
   "cell_type": "code",
   "execution_count": 4,
   "metadata": {},
   "outputs": [
    {
     "data": {
      "text/plain": [
       "'datasets\\\\housing'"
      ]
     },
     "execution_count": 4,
     "metadata": {},
     "output_type": "execute_result"
    }
   ],
   "source": [
    "HOUSING_PATH"
   ]
  },
  {
   "cell_type": "markdown",
   "metadata": {},
   "source": [
    "# About `os.path`"
   ]
  },
  {
   "cell_type": "markdown",
   "metadata": {},
   "source": [
    "`os.path.abspath(path)` \n",
    "> 返回绝对路径\n",
    "\n",
    "`os.path.commonpath(paths)` \n",
    "> 返回最长的共同的前置子路径\n",
    "\n",
    "`os.path.commonprefix(list)`\n",
    "> 这个有点搞笑，相当于把多个路径名都看做无意义的字符串，找到最长的共同的前置部分\n",
    "\n",
    "`os.path.split(path)` \n",
    "> 把路径分为两部分，(head, tail)，tail部分不包含斜杠。例如，传入'/usr/local/lib'，返回('/usr/local', 'lib')\n",
    "\n",
    "`os.path.basename(path)` \n",
    "> 返回split()后的tail\n",
    "\n",
    "`os.path.dirname(path)` \n",
    "> 返回split()后的head\n",
    "\n",
    "`os.path.exists(path)`\n",
    "> 如果path是存在的就返回True。但这不是全部，剩下的有点复杂，过后明白了再补吧。。。\n",
    "\n",
    "`os.path.expanduser(path)`\n",
    "> 会把path中的 **~** 替换为HOME路径并返回。\n",
    "\n",
    "`os.path.expandvars(path)`\n",
    "> 会把path中的$name，${name}（windows中的%name%）替换为相应的环境变量（系统和用户）并返回。\n",
    "\n",
    "`os.path.getatime(path)`, `os.path.getmtime(path)`, `os.path.getctime(path)`\n",
    "> 分别返回path的last access time, last modify time, last change time。\n",
    "\n",
    "`os.path.getsize(path)`\n",
    "> 返回path的size, 单位Byte。这个size可不是这个路径下所有文件的大小，而是这个路径下用来描述文件信息所占的空间大小\n",
    "\n",
    "`os.path.isabs(path)`\n",
    "> 如果是绝对路径，返回True\n",
    "\n",
    "`os.path.isdir(path)`, `os.path.isfile(path)`, `os.path.islink(path)`\n",
    "> 分别是路径，文件，symbolic link时返回True。\n",
    "\n",
    "`os.path.join(path, *paths)`\n",
    "> 这个很常用，连接过个路径。\n",
    "\n",
    "`os.path.normcase(path)`, `os.path.normpath(path)`"
   ]
  }
 ],
 "metadata": {
  "kernelspec": {
   "display_name": "Python 3",
   "language": "python",
   "name": "python3"
  },
  "language_info": {
   "codemirror_mode": {
    "name": "ipython",
    "version": 3
   },
   "file_extension": ".py",
   "mimetype": "text/x-python",
   "name": "python",
   "nbconvert_exporter": "python",
   "pygments_lexer": "ipython3",
   "version": "3.7.1"
  }
 },
 "nbformat": 4,
 "nbformat_minor": 2
}
